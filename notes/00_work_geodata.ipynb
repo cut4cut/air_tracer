{
 "cells": [
  {
   "cell_type": "code",
   "execution_count": 1,
   "id": "e441337a-b4c8-41ae-88c5-0c406fc1d45b",
   "metadata": {},
   "outputs": [],
   "source": [
    "import numpy as np"
   ]
  },
  {
   "cell_type": "code",
   "execution_count": 2,
   "id": "6fb3732a-b063-4772-9717-e86d47ae1f2b",
   "metadata": {},
   "outputs": [],
   "source": [
    "with open('./tmp/targets_extra_dec.npy', 'rb') as f:\n",
    "    geodata = np.load(f)\n",
    "    \n",
    "with open('./tmp/x_extra_coords.npy', 'rb') as f:\n",
    "    x_coords = np.load(f)\n",
    "    \n",
    "with open('./tmp/y_extra_coords.npy', 'rb') as f:\n",
    "    y_coords = np.load(f)"
   ]
  },
  {
   "cell_type": "code",
   "execution_count": 3,
   "id": "ed58e963-afa9-4288-8657-64fbee73f90a",
   "metadata": {},
   "outputs": [],
   "source": [
    "# Обращение по долготе и широте\n",
    "# geodata[долгота][широта]\n",
    "y = 55.71000153\n",
    "x = 37.56000076\n",
    "\n",
    "index_y = np.where(np.isclose(y_coords, y) == True)[0][0]\n",
    "index_x = np.where(np.isclose(x_coords, x) == True)[0][0]\n",
    "\n",
    "point_data = np.flipud(geodata[0].reshape(50, 100))[index_y][index_x]"
   ]
  },
  {
   "cell_type": "code",
   "execution_count": 4,
   "id": "bc592d45-b4a4-4324-a9f5-5a9fc00a5131",
   "metadata": {},
   "outputs": [
    {
     "data": {
      "text/plain": [
       "0.24554825411133407"
      ]
     },
     "execution_count": 4,
     "metadata": {},
     "output_type": "execute_result"
    }
   ],
   "source": [
    "point_data"
   ]
  },
  {
   "cell_type": "code",
   "execution_count": null,
   "id": "b3acb655-7e1d-4165-ad49-235323ebfdb5",
   "metadata": {},
   "outputs": [],
   "source": []
  }
 ],
 "metadata": {
  "kernelspec": {
   "display_name": "Python 3 (ipykernel)",
   "language": "python",
   "name": "python3"
  },
  "language_info": {
   "codemirror_mode": {
    "name": "ipython",
    "version": 3
   },
   "file_extension": ".py",
   "mimetype": "text/x-python",
   "name": "python",
   "nbconvert_exporter": "python",
   "pygments_lexer": "ipython3",
   "version": "3.7.0"
  }
 },
 "nbformat": 4,
 "nbformat_minor": 5
}
