{
 "cells": [
  {
   "cell_type": "code",
   "execution_count": 19,
   "id": "e441337a-b4c8-41ae-88c5-0c406fc1d45b",
   "metadata": {},
   "outputs": [],
   "source": [
    "import numpy as np"
   ]
  },
  {
   "cell_type": "code",
   "execution_count": 20,
   "id": "6fb3732a-b063-4772-9717-e86d47ae1f2b",
   "metadata": {},
   "outputs": [],
   "source": [
    "with open('./tmp/targets_dec.npy', 'rb') as f:\n",
    "    geodata = np.load(f)\n",
    "    \n",
    "with open('./tmp/x_coords.npy', 'rb') as f:\n",
    "    x_coords = np.load(f)\n",
    "    \n",
    "with open('./tmp/y_coords.npy', 'rb') as f:\n",
    "    y_coords = np.load(f)"
   ]
  },
  {
   "cell_type": "code",
   "execution_count": 28,
   "id": "ed58e963-afa9-4288-8657-64fbee73f90a",
   "metadata": {},
   "outputs": [],
   "source": [
    "# Обращение по долготе и широте\n",
    "# geodata[долгота][широта]\n",
    "y = 55.71000153\n",
    "x = 37.56000076\n",
    "\n",
    "index_y = np.where(y_coords == y)\n",
    "index_x = np.where(x_coords == x)\n",
    "\n",
    "point_data = np.flipud(geodata[0].reshape(20, 40))[index_y][index_x]"
   ]
  },
  {
   "cell_type": "code",
   "execution_count": null,
   "id": "3d2d6b9e-eb3d-4f27-9c6f-15ac841e49a6",
   "metadata": {},
   "outputs": [],
   "source": []
  }
 ],
 "metadata": {
  "kernelspec": {
   "display_name": "Python 3 (ipykernel)",
   "language": "python",
   "name": "python3"
  },
  "language_info": {
   "codemirror_mode": {
    "name": "ipython",
    "version": 3
   },
   "file_extension": ".py",
   "mimetype": "text/x-python",
   "name": "python",
   "nbconvert_exporter": "python",
   "pygments_lexer": "ipython3",
   "version": "3.7.0"
  }
 },
 "nbformat": 4,
 "nbformat_minor": 5
}
